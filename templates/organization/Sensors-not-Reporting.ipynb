{
 "cells": [
  {
   "cell_type": "markdown",
   "metadata": {},
   "source": [
    "# List of Sensors not Reporting\n",
    "These sensors had not reported in the 4 hours prior to when this report was run."
   ]
  },
  {
   "cell_type": "code",
   "execution_count": 1,
   "metadata": {},
   "outputs": [],
   "source": [
    "from datetime import datetime, timedelta\n",
    "import pandas as pd\n",
    "from IPython.display import Markdown\n",
    "import bmondata\n",
    "import scrapbook as sb"
   ]
  },
  {
   "cell_type": "code",
   "execution_count": 5,
   "metadata": {
    "tags": [
     "parameters"
    ]
   },
   "outputs": [],
   "source": [
    "# Parameters to be changed/exported using Papermill or Scrapbook\n",
    "org_id = 1\n",
    "server_web_address = 'https://bmon.analysisnorth.com'"
   ]
  },
  {
   "cell_type": "code",
   "execution_count": 6,
   "metadata": {},
   "outputs": [
    {
     "data": {
      "application/scrapbook.scrap.text+json": {
       "data": "Non-reporting Sensors",
       "encoder": "text",
       "name": "title",
       "version": 1
      }
     },
     "metadata": {
      "scrapbook": {
       "data": true,
       "display": false,
       "name": "title"
      }
     },
     "output_type": "display_data"
    },
    {
     "data": {
      "application/scrapbook.scrap.json+json": {
       "data": 90,
       "encoder": "json",
       "name": "sort_order",
       "version": 1
      }
     },
     "metadata": {
      "scrapbook": {
       "data": true,
       "display": false,
       "name": "sort_order"
      }
     },
     "output_type": "display_data"
    }
   ],
   "source": [
    "# The report generator script needs to the know the Title of this report and where\n",
    "# to sort it with respect to other reports.  Glue that information to this notebook.\n",
    "sb.glue('title', 'Non-reporting Sensors')\n",
    "sb.glue('sort_order', 90)"
   ]
  },
  {
   "cell_type": "code",
   "execution_count": null,
   "metadata": {},
   "outputs": [],
   "source": [
    "server = bmondata.Server(server_web_address)"
   ]
  },
  {
   "cell_type": "code",
   "execution_count": 48,
   "metadata": {
    "scrolled": false
   },
   "outputs": [
    {
     "data": {
      "text/markdown": [
       "\n",
       "\n",
       "### Chris's House\n",
       "* Chris's Electric (C_PikeGas_04_29587542)\n",
       "\n",
       "### Dustin's Neighborhood\n",
       "* Dustin Gas Use (dustinhouse_44599003)\n",
       "* Luc's Gas Use (dustinhouse_44634440)\n",
       "* Anonymous House 1 (dustinhouse_44603115)\n",
       "* Anonymous House 2 (dustinhouse_44590972)\n",
       "* Anonymous House 3 (dustinhouse_44590967)\n",
       "* Anonymous House 4 (dustinhouse_44576359)\n",
       "* Alana and Travis' Gas Use (dustinhouse_44495954)\n",
       "* Anonymous Average Gas Use (dustinhouse_AnonymousAverage)\n",
       "* Energy Challenge: Dustin vs. Luc (dustinVSluc)\n",
       "* Potential Furnace Problem - Dustin's House (dustinhouse_furnace_problem)\n",
       "* Potential Furnace Problem: Luc's House (dustinhouse_luc_furnace_problem)\n",
       "* Gas Reader Uptime (dustinhouse_uptime)\n",
       "\n",
       "### Homer Strawbale\n",
       "\n",
       "### Ian's House\n",
       "* Electricity Use (cea_L136716723)\n",
       "\n",
       "### Kaluza House\n",
       "* Old Outdoor Wireless Temp (phil_hp_pwr_9236_temp)\n",
       "* Old Outdoor Wireless Humidity (phil_hp_pwr_9236_rh)\n",
       "* Detailed Power (panel_pwr)\n",
       "* Average Power (panel_pwr_avg)\n",
       "* Power Factor (panel_pf)\n",
       "* Line Frequency (panel_freq)\n",
       "* Alan Portable, Power Average (alan_pwr_avg)\n",
       "* Alan Portable, Detailed Power (alan_pwr)\n",
       "* Alan Portable, Power Factor (alan_pf)\n",
       "* Alan Portable, Mains Voltage (alan_volt)\n",
       "* Alan Portable, Mains Frequency (alan_freq)\n",
       "* Alan Portable, Current (alan_amp)\n",
       "* Heat Pump COP, daily averages (phil_hp_cop_1d)\n",
       "* Palm Outdoor Unit Outlet Air Temp (phil_hp_pwr_672_temp)\n",
       "* Indoor Unit Inlet Temp (phil_hp_pwr_8547_temp)\n",
       "* Indoor Unit Inlet Humidity (phil_hp_pwr_8547_rh)\n",
       "* Portable Power Meter (phil_port_pwr_16_pulse)\n",
       "\n",
       "### Mitchell House\n",
       "* Bike Charger Current (260034000c47343432313031_amps)\n",
       "* Bike Charger Voltage (260034000c47343432313031_volts)\n",
       "* 1-wire Temperature Test Sensor (28.FFF128021400)\n",
       "* 1-Wire Motor Sensor Test (12.EC75C3000000)\n",
       "* Pi Test Uptime (py3test_uptime)\n",
       "* Pi Test CPU Temperature (py3test_cpu_temp)\n",
       "* Detailed Power (panel_pwr)\n",
       "* Average Power (panel_pwr_avg)\n",
       "* Power Factor (panel_pf)\n",
       "* Line Frequency (panel_freq)\n",
       "* Solar Sensor, Plain (260034000c47343432313031_pln)\n",
       "* Solar Sensor, Heated (260034000c47343432313031_htd)\n",
       "* Solar Sensor, Heated, Maximum (260034000c47343432313031_htd_max)\n",
       "* Office CO2 (room01_rm_co2)\n",
       "* 2CF2 Temperature (0004A30B001B2CF2_temperature)\n",
       "* 2CF2 Light (0004A30B001B2CF2_light)\n",
       "* 2CF2 Battery (0004A30B001B2CF2_battery)\n",
       "* 2CF2 SNR (0004A30B001B2CF2_snr)\n",
       "* 2CF2 RSSI (0004A30B001B2CF2_rssi)\n",
       "* Gas Reader, test (py3test_12_38517635)\n",
       "* Delivered Electricity Use (cea_L131776533)\n",
       "* Natural Gas Use (test_38517635)\n",
       "* Natural Gas Use 2 (test2_12_38517635)\n",
       "* Gas Usage 32707556 (test_32707556)\n",
       "* Gas Usage 51747180 (test_51747180)\n",
       "* Gas Usage 44106101 (test_44106101)\n",
       "* Meter Reader Pi Uptime (test2_uptime)\n",
       "* Pi CPU Temperature in Office (test_cpu_temp)\n",
       "* Pi Zero CPU Temp (al_zero01_cpu_temp)\n",
       "* Outage Monitor Power Presence (outage_state)\n",
       "* Outage Monitor Uptime (outage_uptime)\n",
       "\n",
       "### Rehfeldt Home\n",
       "* Outside Temp (JNU_OutsideT)\n",
       "* HP-1 Inlet Temp (JNU_ReturnTHP1)\n",
       "* HP-1 Outlet Temp (JNU_SupplyTHP1)\n",
       "* HP-2 Inlet Temp (JNU_ReturnTHP2)\n",
       "* HP-2 Outlet Temp (JNU_SupplyTHP2)\n",
       "* House Supply Temp (JNU_SupplyThouse)\n",
       "* House Return Temp (JNU_ReturnThouse)\n",
       "* DHW Heating Supply Temp (JNU_SupplyTDHW)\n",
       "* DHW Heating Return Temp (JNU_ReturnTDHW)\n",
       "* HP-1 Evaporator Air Temp (JNU_Coil1T)\n",
       "* HP-2 Evaporator Air Temp (JNU_Coil2T)\n",
       "* HP-1 Backup Heat Power (JNU_ElectricityHP1hydro)\n",
       "* HP-2 Backup Heat Power (JNU_ElectricityHP2hydro)\n",
       "* Total Heat Pump Backup Power (JNU_hp_backup_power_total)\n",
       "* HP-1 Heat Pump Power (JNU_ElectricityHP1out)\n",
       "* HP-2 Heat Pump Power (JNU_ElectricityHP2out)\n",
       "* Total HP1 + HP2 Compressor Power (JNU_hp_heat_power_total)\n",
       "* Total HP Compressor + Backup Power (JNU_hp_power_total)\n",
       "* DHW Backup Power (JNU_ElectricityDHW)\n",
       "* Total HP and DHW Backup Power (JNU_hp_and_dhw_power_total)\n",
       "* HP-1 Flow (JNU_FlowHP1)\n",
       "* HP-2 Flow (JNU_FlowHP2)\n",
       "* House Flow (JNU_Flowhouse)\n",
       "* DHW Flow (JNU_FlowDHW)\n",
       "* HP1 Output Heat (JNU_HP1_heat)\n",
       "* HP2 Output Heat (JNU_HP2_heat)\n",
       "* Total HP1 + HP2 Output Heat (JNU_hp_heat_total)\n",
       "* Space Heat from Heat Pump (JNU_space_hp_heat)\n",
       "* DHW Heat from Heat Pump (JNU_dhw_hp_heat)\n",
       "* Space + DHW Heat from HP (JNU_space_and_dhw_heat)\n",
       "\n",
       "### Tyler's House\n",
       "* Unknown title (Tyler House_12_40778468)\n",
       "* Unknown title (PAMR_abs_hum)"
      ],
      "text/plain": [
       "<IPython.core.display.Markdown object>"
      ]
     },
     "execution_count": 48,
     "metadata": {},
     "output_type": "execute_result"
    }
   ],
   "source": [
    "org_info = server.organizations(org_id)[0]\n",
    "result = ''\n",
    "for bldg_id, bldg_name in org_info['buildings']:\n",
    "    result += f'\\n\\n### {bldg_name}'\n",
    "    bldg_info = server.buildings(bldg_id)[0]\n",
    "    for sensor_info in bldg_info['sensors']:\n",
    "        s_id = sensor_info['sensor_id']\n",
    "        tstart = str(datetime.utcnow() - timedelta(hours=4))\n",
    "        try:\n",
    "            reading_count = len(server.sensor_readings(s_id, start_ts=tstart, timezone='UTC'))\n",
    "        except:\n",
    "            reading_count = 0\n",
    "        if reading_count==0:\n",
    "            # Look up sensor title and add a bullet describing sensor\n",
    "            try:\n",
    "                detailed_info = server.sensors(s_id)[0]\n",
    "                title = detailed_info['title']\n",
    "            except:\n",
    "                title = \"Unknown title\"\n",
    "            result += f\"\\n* {title} ({s_id})\"\n",
    "Markdown(result)"
   ]
  }
 ],
 "metadata": {
  "kernelspec": {
   "display_name": "Python 3",
   "language": "python",
   "name": "python3"
  },
  "language_info": {
   "codemirror_mode": {
    "name": "ipython",
    "version": 3
   },
   "file_extension": ".py",
   "mimetype": "text/x-python",
   "name": "python",
   "nbconvert_exporter": "python",
   "pygments_lexer": "ipython3",
   "version": "3.7.6"
  }
 },
 "nbformat": 4,
 "nbformat_minor": 4
}
