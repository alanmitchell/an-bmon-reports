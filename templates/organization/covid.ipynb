{
 "cells": [
  {
   "cell_type": "markdown",
   "metadata": {},
   "source": [
    "### Comparison of Covid-19 Infections and Deaths per 100K people, by State"
   ]
  },
  {
   "cell_type": "code",
   "execution_count": null,
   "metadata": {},
   "outputs": [],
   "source": [
    "import pandas as pd\n",
    "import plotly.graph_objects as go\n",
    "import plotly.express as px\n",
    "import numpy as np\n",
    "from IPython.display import display\n",
    "import scrapbook as sb\n",
    "\n",
    "# List of states to graph\n",
    "states = ['Alaska', 'Connecticut', 'Colorado', 'Wisconsin', 'New York', 'South Dakota', 'Montana']"
   ]
  },
  {
   "cell_type": "code",
   "execution_count": null,
   "metadata": {
    "tags": [
     "parameters"
    ]
   },
   "outputs": [],
   "source": [
    "# Parameters that will be changed by the bmonreporter report-creating script.\n",
    "# This cell must have a \"parameters\" tag.\n",
    "server_web_address = None     # irrelevant, no BMON data used\n",
    "org_id = None  # irrelevant, no BMON data used"
   ]
  },
  {
   "cell_type": "code",
   "execution_count": null,
   "metadata": {},
   "outputs": [],
   "source": [
    "# The report generator script needs to the know the Title of this report and where\n",
    "# to sort it with respect to other reports.  Glue that information to this notebook.\n",
    "sb.glue('title', 'COVID per 100K People, by State')\n",
    "sb.glue('sort_order', 100)"
   ]
  },
  {
   "cell_type": "code",
   "execution_count": null,
   "metadata": {
    "tags": [
     "remove_cell"
    ]
   },
   "outputs": [],
   "source": [
    "dfs = pd.read_csv('https://raw.githubusercontent.com/nytimes/covid-19-data/master/us-states.csv', parse_dates=['date'])\n",
    "dfs.set_index('date', inplace=True)"
   ]
  },
  {
   "cell_type": "code",
   "execution_count": null,
   "metadata": {},
   "outputs": [],
   "source": [
    "# get state populations into DataFrame\n",
    "#df_pop = pd.read_csv('state-population.csv')\n",
    "df_pop = pd.read_csv('https://raw.githubusercontent.com/alanmitchell/an-data/master/demographic/state-population.csv')\n",
    "state_to_pop = dict(zip(df_pop.state, df_pop.population))"
   ]
  },
  {
   "cell_type": "code",
   "execution_count": null,
   "metadata": {
    "tags": [
     "remove_cell"
    ]
   },
   "outputs": [],
   "source": [
    "days_to_avg = 7\n",
    "def new_per_capita_avg(df):\n",
    "    try:\n",
    "        pop_100k = state_to_pop[df.iloc[0].state] / 100000.\n",
    "        new_cases = df.cases.diff() / pop_100k\n",
    "        new_deaths = df.deaths.diff() / pop_100k\n",
    "        new_deaths_p_100k_avg = new_deaths.rolling(days_to_avg).mean()\n",
    "        new_cases_p_100k_avg = new_cases.rolling(days_to_avg).mean()\n",
    "        return pd.DataFrame({'new_deaths_p_100k_avg': new_deaths_p_100k_avg, 'new_cases_p_100k_avg': new_cases_p_100k_avg})\n",
    "    except:\n",
    "        return pd.DataFrame({'new_deaths_p_100k_avg': [np.NaN]*len(df), 'new_cases_p_100k_avg': [np.NaN]*len(df)})\n",
    "\n",
    "df_results = dfs.groupby('state').apply(new_per_capita_avg).reset_index()\n",
    "df_results.dropna(inplace=True)"
   ]
  },
  {
   "cell_type": "markdown",
   "metadata": {},
   "source": [
    "All values shown the graphs and tables below are 7-day rolling averages.\n",
    "\n",
    "A selection of states are shown in the graphs below.\n",
    "You can click on State names in the Legend to hide and then show again various states.\n",
    "You can also click and drag a rectangle on the graph to zoom in on a particular region."
   ]
  },
  {
   "cell_type": "code",
   "execution_count": null,
   "metadata": {},
   "outputs": [],
   "source": [
    "df_state_subset = df_results.query('state in @states')\n",
    "fig = px.line(df_state_subset, x=\"level_1\", y=\"new_cases_p_100k_avg\", color='state')\n",
    "fig.update_layout(\n",
    "    yaxis_title_text = 'New Confirmed Cases per 100K People',\n",
    "    yaxis_title_font_size = 18,\n",
    "    xaxis_title_text = 'Date',\n",
    "    xaxis_title_font_size = 20,\n",
    "    title_text = 'New Confirmed Cases per 100,000 People',\n",
    "    title_font_size = 30,\n",
    ")\n",
    "fig.show()"
   ]
  },
  {
   "cell_type": "code",
   "execution_count": null,
   "metadata": {},
   "outputs": [],
   "source": [
    "fig = px.line(df_state_subset, x=\"level_1\", y=\"new_deaths_p_100k_avg\", color='state')\n",
    "fig.update_layout(\n",
    "    yaxis_title_text = 'New Deaths per 100K People',\n",
    "    yaxis_title_font_size = 20,\n",
    "    xaxis_title_text = 'Date',\n",
    "    xaxis_title_font_size = 20,\n",
    "    title_text = 'New Deaths per 100,000 People',\n",
    "    title_font_size = 30,\n",
    ")\n",
    "fig.show()"
   ]
  },
  {
   "cell_type": "markdown",
   "metadata": {},
   "source": [
    "The tables below show new cases and new deaths per 100,000 people, sorted from the highest incidence states\n",
    "to lowest."
   ]
  },
  {
   "cell_type": "code",
   "execution_count": null,
   "metadata": {},
   "outputs": [],
   "source": [
    "days_to_avg = 7\n",
    "print(f'Last Day of Data: {dfs.index[-1].strftime(\"%b %d, %Y\")}')\n",
    "print(f'Number of Days in Average: {days_to_avg}')\n",
    "def new_per_capita(df):\n",
    "    try:\n",
    "        new_cases = df.cases.diff()\n",
    "        new_deaths = df.deaths.diff()\n",
    "        pop_100k = state_to_pop[df.iloc[0].state] / 100000.\n",
    "        new_deaths_p_100k = new_deaths[-days_to_avg:].mean() / pop_100k\n",
    "        new_cases_p_100k = new_cases[-days_to_avg:].mean() / pop_100k\n",
    "        return pd.Series({'New Deaths per 100K People': new_deaths_p_100k, 'New Cases per 100K People': new_cases_p_100k})\n",
    "    except:\n",
    "        return pd.Series({'New Deaths per 100K People': np.NaN, 'New Cases per 100K People': np.NaN})\n",
    "\n",
    "df_results2 = dfs.groupby('state').apply(new_per_capita)\n",
    "df_results2.dropna(inplace=True)\n",
    "display(df_results2.sort_values('New Cases per 100K People', ascending=False)[['New Cases per 100K People']])\n",
    "df_results2.sort_values('New Deaths per 100K People', ascending=False)[['New Deaths per 100K People']]"
   ]
  },
  {
   "cell_type": "markdown",
   "metadata": {},
   "source": [
    "Developed by Alan Mitchell, alan@analysisnorth.com, using [data compiled by the New York Times](https://github.com/nytimes/covid-19-data).\n",
    "This page is regenerated nightly using the most recent NY Times-compiled data.\n",
    "\n",
    "Also see the NY Times [COVID US Tracking page](https://www.nytimes.com/interactive/2020/us/coronavirus-us-cases.html)."
   ]
  }
 ],
 "metadata": {
  "celltoolbar": "Tags",
  "kernelspec": {
   "display_name": "Python 3",
   "language": "python",
   "name": "python3"
  },
  "language_info": {
   "codemirror_mode": {
    "name": "ipython",
    "version": 3
   },
   "file_extension": ".py",
   "mimetype": "text/x-python",
   "name": "python",
   "nbconvert_exporter": "python",
   "pygments_lexer": "ipython3",
   "version": "3.8.5"
  }
 },
 "nbformat": 4,
 "nbformat_minor": 2
}
