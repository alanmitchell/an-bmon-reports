{
 "cells": [
  {
   "cell_type": "code",
   "execution_count": null,
   "metadata": {},
   "outputs": [],
   "source": [
    "import pandas as pd\n",
    "import plotly.graph_objects as go\n",
    "from IPython.display import display, Markdown, Image, SVG\n",
    "import bmondata\n",
    "import scrapbook as sb"
   ]
  },
  {
   "cell_type": "code",
   "execution_count": null,
   "metadata": {
    "tags": [
     "parameters"
    ]
   },
   "outputs": [],
   "source": [
    "# Parameters to be changed/exported using Papermill or Scrapbook\n",
    "building_id = 3\n",
    "server_web_address = 'https://bmon.analysisnorth.com'"
   ]
  },
  {
   "cell_type": "code",
   "execution_count": null,
   "metadata": {},
   "outputs": [],
   "source": [
    "if building_id != 3 or ('analysisnorth' not in server_web_address):\n",
    "    raise RuntimeError('Not Applicable to this Building')"
   ]
  },
  {
   "cell_type": "code",
   "execution_count": null,
   "metadata": {},
   "outputs": [],
   "source": [
    "sb.glue('title', 'Nighttime Nanny')\n",
    "sb.glue('sort_order', 10)"
   ]
  },
  {
   "cell_type": "markdown",
   "metadata": {},
   "source": [
    "# Analysis of Nighttime Power Use\n",
    "\n",
    "The nighttime period included in this analysis is Midnight - 6 am."
   ]
  },
  {
   "cell_type": "code",
   "execution_count": null,
   "metadata": {},
   "outputs": [],
   "source": [
    "server = bmondata.Server(server_web_address)"
   ]
  },
  {
   "cell_type": "code",
   "execution_count": null,
   "metadata": {},
   "outputs": [],
   "source": [
    "df = server.sensor_readings('cea_L131776533', averaging='1H')\n",
    "df.columns = ['power']\n",
    "df['hour'] = df.index.hour\n",
    "\n",
    "df_night = df.query('hour >=0 and hour <= 5')\n",
    "df_night_dayavg = df_night.resample('1D').mean()\n",
    "df_night_dayfinal = df_night_dayavg.drop(columns=['hour']).query('power < 0.75')\n",
    "df_night_dayfinal.tail()\n",
    "\n",
    "daily_plot = go.Scatter(x=df_night_dayfinal.index, y=df_night_dayfinal.power, name='Nighttime Power')\n",
    "avg_power = df_night_dayfinal.power.mean()\n",
    "avg_plot = go.Scatter(\n",
    "    x=[df_night_dayfinal.index[0], df_night_dayfinal.index[-1]], \n",
    "    y=[avg_power, avg_power],\n",
    "    name='Nighttime Average',\n",
    "    mode='lines'\n",
    ")\n",
    "fig = go.Figure(\n",
    "    data=[daily_plot, avg_plot],\n",
    "    layout_title_text = 'Daily Average Nighttime Power',\n",
    "    layout_yaxis_title_text = 'Nighttime Power, kW',\n",
    ")\n",
    "fig.show()"
   ]
  },
  {
   "cell_type": "code",
   "execution_count": null,
   "metadata": {},
   "outputs": [],
   "source": [
    "df_night_dayfinal['month'] = df_night_dayfinal.index.month\n",
    "df_mo = df_night_dayfinal.groupby('month').mean()\n",
    "plot_mo = go.Scatter(\n",
    "    x=df_mo.index, \n",
    "    y=df_mo.power,\n",
    "    name='Monthly Profile',\n",
    "    mode='lines'\n",
    ")\n",
    "ser_avg_last_week = df_night_dayfinal[-8:-1].mean()\n",
    "plot_last_week = go.Scatter(\n",
    "    x=[ser_avg_last_week.month], \n",
    "    y=[ser_avg_last_week.power],\n",
    "    name='Last Week',\n",
    "    marker_size = 10\n",
    ")\n",
    "fig = go.Figure(\n",
    "    data=[plot_mo, plot_last_week],\n",
    "    layout_title_text = 'Current Week vs. Typical Monthly Nighttime Power',\n",
    "    layout_xaxis_title_text = 'Month',\n",
    "    layout_yaxis_title_text = 'Nighttime Power, kW'\n",
    ")\n",
    "fig.show()"
   ]
  }
 ],
 "metadata": {
  "kernelspec": {
   "display_name": "Python 3",
   "language": "python",
   "name": "python3"
  },
  "language_info": {
   "codemirror_mode": {
    "name": "ipython",
    "version": 3
   },
   "file_extension": ".py",
   "mimetype": "text/x-python",
   "name": "python",
   "nbconvert_exporter": "python",
   "pygments_lexer": "ipython3",
   "version": "3.7.6"
  }
 },
 "nbformat": 4,
 "nbformat_minor": 2
}
