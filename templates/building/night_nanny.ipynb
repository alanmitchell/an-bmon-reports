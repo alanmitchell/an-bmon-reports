{
 "cells": [
  {
   "cell_type": "markdown",
   "metadata": {},
   "source": [
    "# Analysis of Nighttime Power Use\n",
    "\n",
    "The nighttime period included in this analysis is Midnight - 6 am; power consumption is averaged across this period."
   ]
  },
  {
   "cell_type": "code",
   "execution_count": null,
   "metadata": {},
   "outputs": [],
   "source": [
    "import pandas as pd\n",
    "import plotly.graph_objects as go\n",
    "from IPython.display import display, Markdown, Image, SVG\n",
    "import bmondata\n",
    "import scrapbook as sb"
   ]
  },
  {
   "cell_type": "code",
   "execution_count": null,
   "metadata": {
    "tags": [
     "parameters"
    ]
   },
   "outputs": [],
   "source": [
    "# These parameters are changed by the report creation script.  All buildings\n",
    "# and servers are cycled through.\n",
    "building_id = 3\n",
    "server_web_address = 'https://bmon.analysisnorth.com'"
   ]
  },
  {
   "cell_type": "code",
   "execution_count": null,
   "metadata": {},
   "outputs": [],
   "source": [
    "# This report, at the moment, only applies to one building.  Raise an error,\n",
    "# which will cause the report to abort, if we are processing a building other\n",
    "# than the Mitchell home.\n",
    "if building_id != 3 or ('analysisnorth' not in server_web_address):\n",
    "    raise RuntimeError('Not Applicable to this Building')"
   ]
  },
  {
   "cell_type": "code",
   "execution_count": null,
   "metadata": {},
   "outputs": [],
   "source": [
    "# The report generator script needs to the know the Title of this report and where\n",
    "# to sort it with respect to other reports.  Glue that information to this notebook.\n",
    "sb.glue('title', 'Nighttime Nanny')\n",
    "sb.glue('sort_order', 10)"
   ]
  },
  {
   "cell_type": "code",
   "execution_count": null,
   "metadata": {},
   "outputs": [],
   "source": [
    "# Make a Server object that allows us to pull data from the BMON site.\n",
    "server = bmondata.Server(server_web_address)"
   ]
  },
  {
   "cell_type": "code",
   "execution_count": null,
   "metadata": {},
   "outputs": [],
   "source": [
    "# Pull down hourly average electric use data from the BMON server.\n",
    "electric_meter_id = 'cea_L131776533'     # sensor ID of the Mitchell electric meter\n",
    "df = server.sensor_readings(electric_meter_id, averaging='1H')\n",
    "\n",
    "# Change column name to \"power\", but also create a new column that contains the\n",
    "# hour of the day (0 - 23) for each row.\n",
    "df.columns = ['power']\n",
    "df['hour'] = df.index.hour\n",
    "\n",
    "# Narrow the dataset down to just nighttime hours\n",
    "df_night = df.query('hour >=0 and hour <= 5')\n",
    "\n",
    "# Average the nighttime hours for each day in the dataset\n",
    "df_night_dayavg = df_night.resample('1D').mean()\n",
    "\n",
    "# Now we can drop the hour column, but also eliminate outlier days with usage\n",
    "# over 0.75 kW\n",
    "df_night_dayfinal = df_night_dayavg.drop(columns=['hour']).query('power < 0.75')\n",
    "\n",
    "# Plot all these daily averages, along with average value\n",
    "daily_plot = go.Scatter(x=df_night_dayfinal.index, y=df_night_dayfinal.power, name='Nighttime Power')\n",
    "avg_power = df_night_dayfinal.power.mean()\n",
    "avg_plot = go.Scatter(\n",
    "    x=[df_night_dayfinal.index[0], df_night_dayfinal.index[-1]], \n",
    "    y=[avg_power, avg_power],\n",
    "    name='Nighttime Average',\n",
    "    mode='lines'\n",
    ")\n",
    "fig = go.Figure(\n",
    "    data=[daily_plot, avg_plot],\n",
    "    layout_title_text = 'Daily Average Nighttime Power',\n",
    "    layout_yaxis_title_text = 'Nighttime Power, kW',\n",
    ")\n",
    "fig.show()"
   ]
  },
  {
   "cell_type": "code",
   "execution_count": null,
   "metadata": {},
   "outputs": [],
   "source": [
    "# Looks like there is seasonality to these values.  So, create a\n",
    "# monthly profile (average nighttime use for each month, 1 - 12).\n",
    "# Then, plot the average of the last 7 days as a dot superimposed \n",
    "# on that plot.\n",
    "df_night_dayfinal['month'] = df_night_dayfinal.index.month\n",
    "df_mo = df_night_dayfinal.groupby('month').mean()      # average for each month\n",
    "plot_mo = go.Scatter(\n",
    "    x=df_mo.index, \n",
    "    y=df_mo.power,\n",
    "    name='Monthly Profile',\n",
    "    mode='lines'\n",
    ")\n",
    "# last 7 days, not using very last day, as it is probably partial\n",
    "ser_avg_last_week = df_night_dayfinal[-8:-1].mean()  \n",
    "plot_last_week = go.Scatter(\n",
    "    x=[ser_avg_last_week.month], \n",
    "    y=[ser_avg_last_week.power],\n",
    "    name='Last Week',\n",
    "    marker_size = 10\n",
    ")\n",
    "fig = go.Figure(\n",
    "    data=[plot_mo, plot_last_week],\n",
    "    layout_title_text = 'Last 7 Days vs. Typical Nighttime Power for this Month',\n",
    "    layout_xaxis_title_text = 'Month',\n",
    "    layout_yaxis_title_text = 'Nighttime Power, kW'\n",
    ")\n",
    "fig.show()"
   ]
  }
 ],
 "metadata": {
  "kernelspec": {
   "display_name": "Python 3",
   "language": "python",
   "name": "python3"
  },
  "language_info": {
   "codemirror_mode": {
    "name": "ipython",
    "version": 3
   },
   "file_extension": ".py",
   "mimetype": "text/x-python",
   "name": "python",
   "nbconvert_exporter": "python",
   "pygments_lexer": "ipython3",
   "version": "3.7.6"
  }
 },
 "nbformat": 4,
 "nbformat_minor": 2
}
